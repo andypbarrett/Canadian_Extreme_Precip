{
 "cells": [
  {
   "cell_type": "markdown",
   "id": "e9559f9d-ebb9-4d40-bcfd-24111d07f60f",
   "metadata": {},
   "source": [
    "# Extreme precipitation in the Canadian Arctic\n",
    "Here, I process, clean and explore data used in the extreme precipitation in Canadian Arctic study.\n",
    "\n",
    "Data are obtained from https://climatedata.ca/download/#station-download.  This is not the official ECCC site but collates and serves daily data.\n",
    "\n",
    "Historical daily data is also available from ECCC [here](https://climate.weather.gc.ca/historical_data/search_historic_data_e.html)\n",
    "\n",
    "_I need to check what they do_  It looks like climatedata.ca do not do anything to the files from ECCC.\n",
    "\n",
    "Many stations have had site and instrumentation changes.  Where these have occurred and sites are co-located, records have been combined.\n",
    "\n",
    "#### To Do\n",
    "- Make plot of record span for each station, including periods of missing data  \n",
    "- Make map of stations with symbols showing length of record\n",
    "- Make table showing length of record and completeness of record by year  \n",
    "- _Tair and Prceip statistics for combined records_  \n",
    "- Plot heatmap showing timing and amount of precipitation for each station\n",
    "- Calculate seasonal cycle of precipitations (precip days, average P, phase)  \n"
   ]
  },
  {
   "cell_type": "markdown",
   "id": "79a293a0-5030-4548-90a9-645b9d817aa4",
   "metadata": {},
   "source": [
    "## Glossary\n",
    "The links below are to the ECCC glossary pages\n",
    "\n",
    "[Maximum Temperature](https://climate.weather.gc.ca/glossary_e.html#maxTemp)  \n",
    "[Minimum Temperature](https://climate.weather.gc.ca/glossary_e.html#minTemp)  \n",
    "[Mean Temperature](https://climate.weather.gc.ca/glossary_e.html#meanTemp) Average of maxmimum and minimum temperature.  \n",
    "[Heating Degree Days](https://climate.weather.gc.ca/glossary_e.html#hdd): The number of degree Celsius that mean temperature is below 18 C, zero otherwise.  \n",
    "[Cooling Degree Days](https://climate.weather.gc.ca/glossary_e.html#cooling): Number of degrees Celsius mean temperature is above 18 C, zero otherwise.  \n",
    "[Total Rain](https://climate.weather.gc.ca/glossary_e.html#totalRain): Amount of liquid precipitation in mm falling in a [climatological day](https://climate.weather.gc.ca/glossary_e.html#climatological_day).  \n",
    "[Total snow](https://climate.weather.gc.ca/glossary_e.html#totalSnow): Amount of frozen precipitation in cm, such as snow an ice pellets, falling in a [climatological day](https://climate.weather.gc.ca/glossary_e.html#climatological_day)  \n",
    "[Total Precipitation](https://climate.weather.gc.ca/glossary_e.html#totalPrec): Sum of rainfall and water equivalent of solid precipitation in mm observed during a [climatological day](https://climate.weather.gc.ca/glossary_e.html#climatological_day).  Trace precipitation 'T' is precipitation amount less than 0.2 mm.  Total precipitation measurements end at 0600Z.  See also [Precipitation](https://climate.weather.gc.ca/glossary_e.html#precipitation)  \n",
    "[Snow on the ground](https://climate.weather.gc.ca/glossary_e.html#s_onGround): Depth of snow on the ground in cm at time of observation. \n",
    "\n",
    "A [Climatological Day](https://climate.weather.gc.ca/glossary_e.html#climatological_day) is from 0601Z to 0600Z on the following day.  _I need to look at how this varies across Canada_.  For stations reporting twice or more times a day, climatological day applies but for stations reporting only once per day, the day of observation is calendar day.  Reporting time is consistent but the choice of the observer.  So we need to check reporting frequencies of stations.  I can look at the hourly data for this.\n",
    "\n",
    "ECCC provide a metadata file for each station with Flag codes.  This is given below.\n",
    "Legend\n",
    "__A__\tAccumulated  \n",
    "__C__\tPrecipitation occurred, amount uncertain  \n",
    "__E__\tEstimated  \n",
    "__F__\tAccumulated and estimated  \n",
    "__L__\tPrecipitation may or may not have occurred  \n",
    "__M__\tMissing \n",
    "__N__\tTemperature missing but known to be > 0  \n",
    "__S__\tMore than one occurrence  \n",
    "__T__\tTrace  \n",
    "__Y__\tTemperature missing but known to be < 0  \n",
    "__[empty]__\tIndicates an unobserved value  \n",
    "__^__\tThe value displayed is based on incomplete data  \n",
    "__†__\tData that is not subject to review by the National Climate Archives  "
   ]
  },
  {
   "cell_type": "code",
   "execution_count": 1,
   "id": "ad69024a-f120-4491-a2a5-49df81a273ef",
   "metadata": {},
   "outputs": [],
   "source": [
    "import sys\n",
    "sys.path.append('../canadian_extreme_precip/')\n",
    "\n",
    "from pathlib import Path\n",
    "import re\n",
    "import pprint\n",
    "import json\n",
    "\n",
    "import datetime as dt\n",
    "import matplotlib.pyplot as plt\n",
    "#import pandas as pd\n",
    "#pd.options.plotting.backend = 'holoviews'\n",
    "\n",
    "from filepath import raw_station_filepath\n",
    "from reader import read_station_file\n",
    "\n",
    "from make_combined_files import get_recipe"
   ]
  },
  {
   "cell_type": "code",
   "execution_count": 2,
   "id": "ce3e51df-df86-4c9f-8bca-030191b93bde",
   "metadata": {
    "tags": []
   },
   "outputs": [],
   "source": [
    "recipe = get_recipe()"
   ]
  },
  {
   "cell_type": "code",
   "execution_count": 3,
   "id": "5c524ec8-531d-4b7e-a9e0-decc9145eb7e",
   "metadata": {},
   "outputs": [],
   "source": [
    "stations = recipe[0]['stations']"
   ]
  },
  {
   "cell_type": "code",
   "execution_count": 4,
   "id": "29a78b16-02d2-4d08-8e5b-06792c2b751e",
   "metadata": {},
   "outputs": [
    {
     "data": {
      "text/html": [
       "<div>\n",
       "<style scoped>\n",
       "    .dataframe tbody tr th:only-of-type {\n",
       "        vertical-align: middle;\n",
       "    }\n",
       "\n",
       "    .dataframe tbody tr th {\n",
       "        vertical-align: top;\n",
       "    }\n",
       "\n",
       "    .dataframe thead th {\n",
       "        text-align: right;\n",
       "    }\n",
       "</style>\n",
       "<table border=\"1\" class=\"dataframe\">\n",
       "  <thead>\n",
       "    <tr style=\"text-align: right;\">\n",
       "      <th></th>\n",
       "      <th>x</th>\n",
       "      <th>y</th>\n",
       "      <th>STATION_NAME</th>\n",
       "      <th>CLIMATE_IDENTIFIER</th>\n",
       "      <th>ID</th>\n",
       "      <th>PROVINCE_CODE</th>\n",
       "      <th>LOCAL_YEAR</th>\n",
       "      <th>LOCAL_MONTH</th>\n",
       "      <th>LOCAL_DAY</th>\n",
       "      <th>MEAN_TEMPERATURE</th>\n",
       "      <th>...</th>\n",
       "      <th>SPEED_MAX_GUST</th>\n",
       "      <th>SPEED_MAX_GUST_FLAG</th>\n",
       "      <th>COOLING_DEGREE_DAYS</th>\n",
       "      <th>COOLING_DEGREE_DAYS_FLAG</th>\n",
       "      <th>HEATING_DEGREE_DAYS</th>\n",
       "      <th>HEATING_DEGREE_DAYS_FLAG</th>\n",
       "      <th>MIN_REL_HUMIDITY</th>\n",
       "      <th>MIN_REL_HUMIDITY_FLAG</th>\n",
       "      <th>MAX_REL_HUMIDITY</th>\n",
       "      <th>MAX_REL_HUMIDITY_FLAG</th>\n",
       "    </tr>\n",
       "    <tr>\n",
       "      <th>LOCAL_DATE</th>\n",
       "      <th></th>\n",
       "      <th></th>\n",
       "      <th></th>\n",
       "      <th></th>\n",
       "      <th></th>\n",
       "      <th></th>\n",
       "      <th></th>\n",
       "      <th></th>\n",
       "      <th></th>\n",
       "      <th></th>\n",
       "      <th></th>\n",
       "      <th></th>\n",
       "      <th></th>\n",
       "      <th></th>\n",
       "      <th></th>\n",
       "      <th></th>\n",
       "      <th></th>\n",
       "      <th></th>\n",
       "      <th></th>\n",
       "      <th></th>\n",
       "      <th></th>\n",
       "    </tr>\n",
       "  </thead>\n",
       "  <tbody>\n",
       "    <tr>\n",
       "      <th>2006-10-27</th>\n",
       "      <td>-62.280556</td>\n",
       "      <td>82.517778</td>\n",
       "      <td>ALERT</td>\n",
       "      <td>2400300</td>\n",
       "      <td>2400300.2006.10.27</td>\n",
       "      <td>NU</td>\n",
       "      <td>2006</td>\n",
       "      <td>10</td>\n",
       "      <td>27</td>\n",
       "      <td>NaN</td>\n",
       "      <td>...</td>\n",
       "      <td>NaN</td>\n",
       "      <td>NaN</td>\n",
       "      <td>NaN</td>\n",
       "      <td>M</td>\n",
       "      <td>NaN</td>\n",
       "      <td>M</td>\n",
       "      <td>NaN</td>\n",
       "      <td>NaN</td>\n",
       "      <td>NaN</td>\n",
       "      <td>NaN</td>\n",
       "    </tr>\n",
       "    <tr>\n",
       "      <th>2006-10-28</th>\n",
       "      <td>-62.280556</td>\n",
       "      <td>82.517778</td>\n",
       "      <td>ALERT</td>\n",
       "      <td>2400300</td>\n",
       "      <td>2400300.2006.10.28</td>\n",
       "      <td>NU</td>\n",
       "      <td>2006</td>\n",
       "      <td>10</td>\n",
       "      <td>28</td>\n",
       "      <td>NaN</td>\n",
       "      <td>...</td>\n",
       "      <td>NaN</td>\n",
       "      <td>NaN</td>\n",
       "      <td>NaN</td>\n",
       "      <td>M</td>\n",
       "      <td>NaN</td>\n",
       "      <td>M</td>\n",
       "      <td>NaN</td>\n",
       "      <td>NaN</td>\n",
       "      <td>NaN</td>\n",
       "      <td>NaN</td>\n",
       "    </tr>\n",
       "    <tr>\n",
       "      <th>2006-10-29</th>\n",
       "      <td>-62.280556</td>\n",
       "      <td>82.517778</td>\n",
       "      <td>ALERT</td>\n",
       "      <td>2400300</td>\n",
       "      <td>2400300.2006.10.29</td>\n",
       "      <td>NU</td>\n",
       "      <td>2006</td>\n",
       "      <td>10</td>\n",
       "      <td>29</td>\n",
       "      <td>NaN</td>\n",
       "      <td>...</td>\n",
       "      <td>NaN</td>\n",
       "      <td>NaN</td>\n",
       "      <td>NaN</td>\n",
       "      <td>M</td>\n",
       "      <td>NaN</td>\n",
       "      <td>M</td>\n",
       "      <td>NaN</td>\n",
       "      <td>NaN</td>\n",
       "      <td>NaN</td>\n",
       "      <td>NaN</td>\n",
       "    </tr>\n",
       "    <tr>\n",
       "      <th>2006-10-30</th>\n",
       "      <td>-62.280556</td>\n",
       "      <td>82.517778</td>\n",
       "      <td>ALERT</td>\n",
       "      <td>2400300</td>\n",
       "      <td>2400300.2006.10.30</td>\n",
       "      <td>NU</td>\n",
       "      <td>2006</td>\n",
       "      <td>10</td>\n",
       "      <td>30</td>\n",
       "      <td>NaN</td>\n",
       "      <td>...</td>\n",
       "      <td>NaN</td>\n",
       "      <td>NaN</td>\n",
       "      <td>NaN</td>\n",
       "      <td>M</td>\n",
       "      <td>NaN</td>\n",
       "      <td>M</td>\n",
       "      <td>NaN</td>\n",
       "      <td>NaN</td>\n",
       "      <td>NaN</td>\n",
       "      <td>NaN</td>\n",
       "    </tr>\n",
       "    <tr>\n",
       "      <th>2006-10-31</th>\n",
       "      <td>-62.280556</td>\n",
       "      <td>82.517778</td>\n",
       "      <td>ALERT</td>\n",
       "      <td>2400300</td>\n",
       "      <td>2400300.2006.10.31</td>\n",
       "      <td>NU</td>\n",
       "      <td>2006</td>\n",
       "      <td>10</td>\n",
       "      <td>31</td>\n",
       "      <td>NaN</td>\n",
       "      <td>...</td>\n",
       "      <td>NaN</td>\n",
       "      <td>NaN</td>\n",
       "      <td>NaN</td>\n",
       "      <td>M</td>\n",
       "      <td>NaN</td>\n",
       "      <td>M</td>\n",
       "      <td>NaN</td>\n",
       "      <td>NaN</td>\n",
       "      <td>NaN</td>\n",
       "      <td>NaN</td>\n",
       "    </tr>\n",
       "  </tbody>\n",
       "</table>\n",
       "<p>5 rows × 35 columns</p>\n",
       "</div>"
      ],
      "text/plain": [
       "                    x          y STATION_NAME  CLIMATE_IDENTIFIER  \\\n",
       "LOCAL_DATE                                                          \n",
       "2006-10-27 -62.280556  82.517778        ALERT             2400300   \n",
       "2006-10-28 -62.280556  82.517778        ALERT             2400300   \n",
       "2006-10-29 -62.280556  82.517778        ALERT             2400300   \n",
       "2006-10-30 -62.280556  82.517778        ALERT             2400300   \n",
       "2006-10-31 -62.280556  82.517778        ALERT             2400300   \n",
       "\n",
       "                            ID PROVINCE_CODE  LOCAL_YEAR  LOCAL_MONTH  \\\n",
       "LOCAL_DATE                                                              \n",
       "2006-10-27  2400300.2006.10.27            NU        2006           10   \n",
       "2006-10-28  2400300.2006.10.28            NU        2006           10   \n",
       "2006-10-29  2400300.2006.10.29            NU        2006           10   \n",
       "2006-10-30  2400300.2006.10.30            NU        2006           10   \n",
       "2006-10-31  2400300.2006.10.31            NU        2006           10   \n",
       "\n",
       "            LOCAL_DAY  MEAN_TEMPERATURE  ... SPEED_MAX_GUST  \\\n",
       "LOCAL_DATE                               ...                  \n",
       "2006-10-27         27               NaN  ...            NaN   \n",
       "2006-10-28         28               NaN  ...            NaN   \n",
       "2006-10-29         29               NaN  ...            NaN   \n",
       "2006-10-30         30               NaN  ...            NaN   \n",
       "2006-10-31         31               NaN  ...            NaN   \n",
       "\n",
       "            SPEED_MAX_GUST_FLAG COOLING_DEGREE_DAYS  COOLING_DEGREE_DAYS_FLAG  \\\n",
       "LOCAL_DATE                                                                      \n",
       "2006-10-27                  NaN                 NaN                         M   \n",
       "2006-10-28                  NaN                 NaN                         M   \n",
       "2006-10-29                  NaN                 NaN                         M   \n",
       "2006-10-30                  NaN                 NaN                         M   \n",
       "2006-10-31                  NaN                 NaN                         M   \n",
       "\n",
       "           HEATING_DEGREE_DAYS  HEATING_DEGREE_DAYS_FLAG MIN_REL_HUMIDITY  \\\n",
       "LOCAL_DATE                                                                  \n",
       "2006-10-27                 NaN                         M              NaN   \n",
       "2006-10-28                 NaN                         M              NaN   \n",
       "2006-10-29                 NaN                         M              NaN   \n",
       "2006-10-30                 NaN                         M              NaN   \n",
       "2006-10-31                 NaN                         M              NaN   \n",
       "\n",
       "            MIN_REL_HUMIDITY_FLAG MAX_REL_HUMIDITY  MAX_REL_HUMIDITY_FLAG  \n",
       "LOCAL_DATE                                                                 \n",
       "2006-10-27                    NaN              NaN                    NaN  \n",
       "2006-10-28                    NaN              NaN                    NaN  \n",
       "2006-10-29                    NaN              NaN                    NaN  \n",
       "2006-10-30                    NaN              NaN                    NaN  \n",
       "2006-10-31                    NaN              NaN                    NaN  \n",
       "\n",
       "[5 rows x 35 columns]"
      ]
     },
     "execution_count": 4,
     "metadata": {},
     "output_type": "execute_result"
    }
   ],
   "source": [
    "df = read_station_file(raw_station_filepath(stations[0]['climate_identifier']))\n",
    "df.tail()"
   ]
  },
  {
   "cell_type": "markdown",
   "id": "8d0bbe34-e096-4f00-bf14-82cbd958f265",
   "metadata": {},
   "source": [
    "### QC"
   ]
  },
  {
   "cell_type": "markdown",
   "id": "5af67347-90f4-4d29-bd45-3a087bd4cab4",
   "metadata": {},
   "source": [
    "#### Precipitation\n",
    "Precipitation may be Trace (< 0.2 mm).  This is reported as zero but Goodison and Yang assign ? mm.  Precipitation may also be coded __C__ if precipitation occurred but amount is uncertain or __L__ precipitation may or may not have occurred.  _I need to check if this occurs in any of the records_."
   ]
  },
  {
   "cell_type": "code",
   "execution_count": 5,
   "id": "a981be6f-c068-48b0-ab59-a026254715ab",
   "metadata": {},
   "outputs": [
    {
     "name": "stderr",
     "output_type": "stream",
     "text": [
      "/home/apbarret/anaconda3/lib/python3.7/site-packages/ipykernel_launcher.py:2: SettingWithCopyWarning: \n",
      "A value is trying to be set on a copy of a slice from a DataFrame\n",
      "\n",
      "See the caveats in the documentation: https://pandas.pydata.org/pandas-docs/stable/user_guide/indexing.html#returning-a-view-versus-a-copy\n",
      "  \n"
     ]
    }
   ],
   "source": [
    "trace_precip = 0.1\n",
    "df['TOTAL_PRECIPITATION'][df.TOTAL_PRECIPITATION_FLAG == 'T'] = trace_precip"
   ]
  },
  {
   "cell_type": "code",
   "execution_count": 6,
   "id": "ec021399-2581-45a0-b769-a8f6a315cc63",
   "metadata": {},
   "outputs": [
    {
     "data": {
      "text/plain": [
       "<AxesSubplot:xlabel='LOCAL_DATE'>"
      ]
     },
     "execution_count": 6,
     "metadata": {},
     "output_type": "execute_result"
    },
    {
     "data": {
      "image/png": "[encoded data removed]",
      "text/plain": [
       "<Figure size 432x288 with 1 Axes>"
      ]
     },
     "metadata": {
      "needs_background": "light"
     },
     "output_type": "display_data"
    }
   ],
   "source": [
    "y = df.MEAN_TEMPERATURE_FLAG.where((df.MEAN_TEMPERATURE_FLAG == 'M') & (df.MEAN_TEMPERATURE_FLAG == 'E'), 1) \n",
    "#fig, ax = plt.subplots(figsize=(12,7))\n",
    "#ax.plot(x, y, '.', markersize=1)\n",
    "\n",
    "y.plot()"
   ]
  },
  {
   "cell_type": "code",
   "execution_count": null,
   "id": "a032918b-a297-4d95-97a8-e93e5158eff2",
   "metadata": {},
   "outputs": [],
   "source": [
    "data_columns = [\n",
    "    'MAX_TEMPERATURE',\n",
    "    'MIN_TEMPERATURE',\n",
    "    'MEAN_TEMPERATURE',\n",
    "    'HEATING_DEGREE_DAYS',\n",
    "    'COOLING_DEGREE_DAYS',\n",
    "    'TOTAL_RAIN',\n",
    "    'TOTAL_SNOW',\n",
    "    'TOTAL_PRECIPITATION',\n",
    "    'SNOW_ON_GROUND',\n",
    "    'DIRECTION_MAX_GUST',\n",
    "    'SPEED_MAX_GUST',\n",
    "    'MAX_REL_HUMIDITY',\n",
    "    'MIN_REL_HUMIDITY',\n",
    "]\n",
    "nfields = len(data_columns)"
   ]
  },
  {
   "cell_type": "code",
   "execution_count": null,
   "id": "13bf6434-064d-45b3-babe-f8d042d36971",
   "metadata": {},
   "outputs": [],
   "source": [
    "df.loc['2006-01', data_columns]"
   ]
  },
  {
   "cell_type": "code",
   "execution_count": null,
   "id": "95f32de5-6e58-4d84-b044-8135c3a01bb8",
   "metadata": {},
   "outputs": [],
   "source": [
    "xmin, xmax = dt.datetime(1950,1,1), dt.datetime(2021,12,31)\n",
    "\n",
    "fig, axes = plt.subplots(nfields, 1, figsize=(12,20))\n",
    "for col, ax in zip(data_columns, axes):\n",
    "    df[col].plot(ax=ax, title=col)\n",
    "    ax.set_xlim(xmin, xmax)"
   ]
  },
  {
   "cell_type": "code",
   "execution_count": null,
   "id": "353c6090-81c7-459e-a60d-37401014849c",
   "metadata": {},
   "outputs": [],
   "source": [
    "df.MEAN_TEMPERATURE_FLAG.unique()"
   ]
  },
  {
   "cell_type": "code",
   "execution_count": null,
   "id": "960923df-3920-473d-b8c0-5653c4822440",
   "metadata": {},
   "outputs": [],
   "source": [
    "for flag in [col for col in df.columns if '_FLAG' in col]:\n",
    "    print(flag, df[flag].unique())"
   ]
  },
  {
   "cell_type": "code",
   "execution_count": null,
   "id": "1d4c8707-b45c-4ccf-97d9-8aec6ef80dbc",
   "metadata": {},
   "outputs": [],
   "source": [
    "df.MEAN_TEMPERATURE.notna().astype(int).plot()"
   ]
  },
  {
   "cell_type": "code",
   "execution_count": null,
   "id": "1087d0ff-6803-4d5c-8598-1820dc9e4b2a",
   "metadata": {},
   "outputs": [],
   "source": [
    "recipe "
   ]
  }
 ],
 "metadata": {
  "kernelspec": {
   "display_name": "Python 3",
   "language": "python",
   "name": "python3"
  },
  "language_info": {
   "codemirror_mode": {
    "name": "ipython",
    "version": 3
   },
   "file_extension": ".py",
   "mimetype": "text/x-python",
   "name": "python",
   "nbconvert_exporter": "python",
   "pygments_lexer": "ipython3",
   "version": "3.7.6"
  }
 },
 "nbformat": 4,
 "nbformat_minor": 5
}
