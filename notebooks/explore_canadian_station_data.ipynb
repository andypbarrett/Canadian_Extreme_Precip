{
 "cells": [
  {
   "cell_type": "markdown",
   "id": "e9559f9d-ebb9-4d40-bcfd-24111d07f60f",
   "metadata": {},
   "source": [
    "# Extreme precipitation in the Canadian Arctic\n",
    "Here, I process, clean and explore data used in the extreme precipitation in Canadian Arctic study.\n",
    "\n",
    "Data are obtained from https://climatedata.ca/download/#station-download.  This is not the official ECCC site but collates and serves daily data.\n",
    "\n",
    "_I need to check what they do_\n",
    "\n",
    "Many stations have had site and instrumentation changes.  Where these have occurred and sites are co-located, records have been combined.\n",
    "\n",
    "#### To Do\n",
    "- Make plot of record span for each station, including periods of missing data  \n",
    "- Make map of stations with symbols showing length of record\n",
    "- Make table showing length of record and completeness of record by year  \n",
    "- _Tair and Prceip statistics for combined records_  \n",
    "- Plot heatmap showing timing and amount of precipitation for each station\n",
    "- Calculate seasonal cycle of precipitations (precip days, average P, phase)  \n"
   ]
  },
  {
   "cell_type": "code",
   "execution_count": 17,
   "id": "ad69024a-f120-4491-a2a5-49df81a273ef",
   "metadata": {},
   "outputs": [],
   "source": [
    "from pathlib import Path\n",
    "import re\n",
    "import pprint\n",
    "import json\n",
    "\n",
    "import pandas as pd\n",
    "\n",
    "DATAPATH = Path('/', 'home', 'apbarret', 'Data', 'Rain_on_snow', 'Canada_extreme_precip', 'Raw_station_files')"
   ]
  },
  {
   "cell_type": "code",
   "execution_count": 18,
   "id": "ce3e51df-df86-4c9f-8bca-030191b93bde",
   "metadata": {},
   "outputs": [
    {
     "data": {
      "text/plain": [
       "[PosixPath('/home/apbarret/Data/Rain_on_snow/Canada_extreme_precip/Raw_station_files/2403497_climate_daily.csv'),\n",
       " PosixPath('/home/apbarret/Data/Rain_on_snow/Canada_extreme_precip/Raw_station_files/2400602_climate_daily.csv'),\n",
       " PosixPath('/home/apbarret/Data/Rain_on_snow/Canada_extreme_precip/Raw_station_files/2400800_climate_daily.csv'),\n",
       " PosixPath('/home/apbarret/Data/Rain_on_snow/Canada_extreme_precip/Raw_station_files/2202580_climate_daily.csv'),\n",
       " PosixPath('/home/apbarret/Data/Rain_on_snow/Canada_extreme_precip/Raw_station_files/2503649_climate_daily.csv'),\n",
       " PosixPath('/home/apbarret/Data/Rain_on_snow/Canada_extreme_precip/Raw_station_files/2403505_climate_daily.csv'),\n",
       " PosixPath('/home/apbarret/Data/Rain_on_snow/Canada_extreme_precip/Raw_station_files/2401203_climate_daily.csv'),\n",
       " PosixPath('/home/apbarret/Data/Rain_on_snow/Canada_extreme_precip/Raw_station_files/station_metadata.csv'),\n",
       " PosixPath('/home/apbarret/Data/Rain_on_snow/Canada_extreme_precip/Raw_station_files/2402354_climate_daily.csv'),\n",
       " PosixPath('/home/apbarret/Data/Rain_on_snow/Canada_extreme_precip/Raw_station_files/2400802_climate_daily.csv'),\n",
       " PosixPath('/home/apbarret/Data/Rain_on_snow/Canada_extreme_precip/Raw_station_files/2401208_climate_daily.csv'),\n",
       " PosixPath('/home/apbarret/Data/Rain_on_snow/Canada_extreme_precip/Raw_station_files/2401199_climate_daily.csv'),\n",
       " PosixPath('/home/apbarret/Data/Rain_on_snow/Canada_extreme_precip/Raw_station_files/2400801_climate_daily.csv'),\n",
       " PosixPath('/home/apbarret/Data/Rain_on_snow/Canada_extreme_precip/Raw_station_files/2400600_climate_daily.csv'),\n",
       " PosixPath('/home/apbarret/Data/Rain_on_snow/Canada_extreme_precip/Raw_station_files/2401200_climate_daily.csv'),\n",
       " PosixPath('/home/apbarret/Data/Rain_on_snow/Canada_extreme_precip/Raw_station_files/2402353_climate_daily.csv'),\n",
       " PosixPath('/home/apbarret/Data/Rain_on_snow/Canada_extreme_precip/Raw_station_files/2403204_climate_daily.csv'),\n",
       " PosixPath('/home/apbarret/Data/Rain_on_snow/Canada_extreme_precip/Raw_station_files/2400305_climate_daily.csv'),\n",
       " PosixPath('/home/apbarret/Data/Rain_on_snow/Canada_extreme_precip/Raw_station_files/2403201_climate_daily.csv'),\n",
       " PosixPath('/home/apbarret/Data/Rain_on_snow/Canada_extreme_precip/Raw_station_files/2202570_climate_daily.csv'),\n",
       " PosixPath('/home/apbarret/Data/Rain_on_snow/Canada_extreme_precip/Raw_station_files/2400804_climate_daily.csv'),\n",
       " PosixPath('/home/apbarret/Data/Rain_on_snow/Canada_extreme_precip/Raw_station_files/2202578_climate_daily.csv'),\n",
       " PosixPath('/home/apbarret/Data/Rain_on_snow/Canada_extreme_precip/Raw_station_files/2400300_climate_daily.csv'),\n",
       " PosixPath('/home/apbarret/Data/Rain_on_snow/Canada_extreme_precip/Raw_station_files/2403498_climate_daily.csv'),\n",
       " PosixPath('/home/apbarret/Data/Rain_on_snow/Canada_extreme_precip/Raw_station_files/2400306_climate_daily.csv'),\n",
       " PosixPath('/home/apbarret/Data/Rain_on_snow/Canada_extreme_precip/Raw_station_files/2400603_climate_daily.csv'),\n",
       " PosixPath('/home/apbarret/Data/Rain_on_snow/Canada_extreme_precip/Raw_station_files/2402350_climate_daily.csv'),\n",
       " PosixPath('/home/apbarret/Data/Rain_on_snow/Canada_extreme_precip/Raw_station_files/2402352_climate_daily.csv'),\n",
       " PosixPath('/home/apbarret/Data/Rain_on_snow/Canada_extreme_precip/Raw_station_files/2403200_climate_daily.csv'),\n",
       " PosixPath('/home/apbarret/Data/Rain_on_snow/Canada_extreme_precip/Raw_station_files/2400654_climate_daily.csv'),\n",
       " PosixPath('/home/apbarret/Data/Rain_on_snow/Canada_extreme_precip/Raw_station_files/2202571_climate_daily.csv'),\n",
       " PosixPath('/home/apbarret/Data/Rain_on_snow/Canada_extreme_precip/Raw_station_files/2202582_climate_daily.csv'),\n",
       " PosixPath('/home/apbarret/Data/Rain_on_snow/Canada_extreme_precip/Raw_station_files/2400650_climate_daily.csv'),\n",
       " PosixPath('/home/apbarret/Data/Rain_on_snow/Canada_extreme_precip/Raw_station_files/2202575_climate_daily.csv'),\n",
       " PosixPath('/home/apbarret/Data/Rain_on_snow/Canada_extreme_precip/Raw_station_files/2400601_climate_daily.csv'),\n",
       " PosixPath('/home/apbarret/Data/Rain_on_snow/Canada_extreme_precip/Raw_station_files/2503648_climate_daily.csv'),\n",
       " PosixPath('/home/apbarret/Data/Rain_on_snow/Canada_extreme_precip/Raw_station_files/2202569_climate_daily.csv'),\n",
       " PosixPath('/home/apbarret/Data/Rain_on_snow/Canada_extreme_precip/Raw_station_files/2403202_climate_daily.csv'),\n",
       " PosixPath('/home/apbarret/Data/Rain_on_snow/Canada_extreme_precip/Raw_station_files/2403500_climate_daily.csv'),\n",
       " PosixPath('/home/apbarret/Data/Rain_on_snow/Canada_extreme_precip/Raw_station_files/2503650_climate_daily.csv'),\n",
       " PosixPath('/home/apbarret/Data/Rain_on_snow/Canada_extreme_precip/Raw_station_files/2403206_climate_daily.csv')]"
      ]
     },
     "execution_count": 18,
     "metadata": {},
     "output_type": "execute_result"
    }
   ],
   "source": [
    "list(DATAPATH.glob('*.csv'))"
   ]
  },
  {
   "cell_type": "code",
   "execution_count": null,
   "id": "29a78b16-02d2-4d08-8e5b-06792c2b751e",
   "metadata": {},
   "outputs": [],
   "source": []
  }
 ],
 "metadata": {
  "kernelspec": {
   "display_name": "Python 3",
   "language": "python",
   "name": "python3"
  },
  "language_info": {
   "codemirror_mode": {
    "name": "ipython",
    "version": 3
   },
   "file_extension": ".py",
   "mimetype": "text/x-python",
   "name": "python",
   "nbconvert_exporter": "python",
   "pygments_lexer": "ipython3",
   "version": "3.7.6"
  }
 },
 "nbformat": 4,
 "nbformat_minor": 5
}
