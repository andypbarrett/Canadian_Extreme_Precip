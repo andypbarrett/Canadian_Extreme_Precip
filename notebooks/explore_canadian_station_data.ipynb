{
 "cells": [
  {
   "cell_type": "markdown",
   "id": "e9559f9d-ebb9-4d40-bcfd-24111d07f60f",
   "metadata": {},
   "source": [
    "# Extreme precipitation in the Canadian Arctic\n",
    "Here, I process, clean and explore data used in the extreme precipitation in Canadian Arctic study.\n",
    "\n",
    "Data are obtained from https://climatedata.ca/download/#station-download.  This is not the official ECCC site but collates and serves daily data.\n",
    "\n",
    "_I need to check what they do_\n",
    "\n",
    "Many stations have had site and instrumentation changes.  Where these have occurred and sites are co-located, records have been combined.\n",
    "\n",
    "#### To Do\n",
    "- Make plot of record span for each station, including periods of missing data  \n",
    "- Make map of stations with symbols showing length of record\n",
    "- Make table showing length of record and completeness of record by year  \n",
    "- _Tair and Prceip statistics for combined records_  \n",
    "- Plot heatmap showing timing and amount of precipitation for each station\n",
    "- Calculate seasonal cycle of precipitations (precip days, average P, phase)  \n"
   ]
  },
  {
   "cell_type": "code",
   "execution_count": 106,
   "id": "ad69024a-f120-4491-a2a5-49df81a273ef",
   "metadata": {},
   "outputs": [],
   "source": [
    "from pathlib import Path\n",
    "import re\n",
    "import pprint\n",
    "\n",
    "import pandas as pd\n",
    "\n",
    "DATAPATH = Path('/', 'home', 'apbarret', 'Data', 'Rain_on_snow', 'Canada_extreme_precip', 'From_Mark')"
   ]
  },
  {
   "cell_type": "code",
   "execution_count": 74,
   "id": "7172499c-e0de-4ef4-9e87-2d251cdf3db0",
   "metadata": {},
   "outputs": [],
   "source": [
    "p1 = re.compile('.*(?=_Combined)')\n",
    "p2 = re.compile('.*(?=\\.+csv)')\n",
    "data = {}\n",
    "for fp in DATAPATH.glob('*.csv'):\n",
    "    m1 = p1.search(fp.name)\n",
    "    if m1:\n",
    "        station_name = m1.group(0)\n",
    "    else:\n",
    "        m2 = p2.search(fp.name)\n",
    "        if m2:\n",
    "            station_name = m2.group(0)\n",
    "        else:\n",
    "            print(f'{fp.name} No match!')\n",
    "            continue\n",
    "    station_name = ' '.join(station_name.split('_'))\n",
    "    if station_name.endswith('.'):\n",
    "        station_name = station_name[:-1]\n",
    "    data[station_name] = fp"
   ]
  },
  {
   "cell_type": "code",
   "execution_count": 75,
   "id": "13e93519-0356-418b-a829-3715e10b2d1c",
   "metadata": {},
   "outputs": [
    {
     "data": {
      "text/plain": [
       "['Alert',\n",
       " 'Eureka',\n",
       " 'Cambridge Bay',\n",
       " 'Hall Beach',\n",
       " 'Inuvik A',\n",
       " 'Sachs Harbour',\n",
       " 'Cape-Dyer A',\n",
       " 'Resolute Bay',\n",
       " 'Clyde River',\n",
       " 'Pond Inlet A']"
      ]
     },
     "execution_count": 75,
     "metadata": {},
     "output_type": "execute_result"
    }
   ],
   "source": [
    "list(data.keys())"
   ]
  },
  {
   "cell_type": "code",
   "execution_count": 81,
   "id": "536b73d3-fa16-4f94-964a-18312fe93ed9",
   "metadata": {},
   "outputs": [],
   "source": [
    "def load_data(filepath):\n",
    "    '''Loads a combined file'''\n",
    "    df = pd.read_csv(filepath, skiprows=2)\n",
    "    df = df.dropna(how='all')\n",
    "    return df\n",
    "\n",
    "\n",
    "def get_station_metadata(df):\n",
    "    '''Extracts station metadata from first and last records of each unique CLIMATE_IDENTIFIER'''\n",
    "    grouper = df.groupby(df.CLIMATE_IDENTIFIER)\n",
    "\n",
    "    first = grouper.first().loc[:,['x', 'y', 'STATION_NAME', 'LOCAL_DATE', 'PROVINCE_CODE']]\n",
    "    last = grouper.last().loc[:, 'LOCAL_DATE']\n",
    "    \n",
    "    metadata = first.join(last, rsuffix='_last')\n",
    "    metadata = metadata.rename({'LOCAL_DATE': 'START_DATE', 'LOCAL_DATE_last': 'END_DATE'}, axis=1)\n",
    "    metadata.index = metadata.index.astype(int)\n",
    "    metadata['START_DATE'] = pd.to_datetime(metadata['START_DATE'])\n",
    "    metadata['END_DATE'] = pd.to_datetime(metadata['END_DATE'])\n",
    "    return metadata\n",
    "    "
   ]
  },
  {
   "cell_type": "code",
   "execution_count": 108,
   "id": "a1003c58-f6d5-46c3-b584-431c0e70e4ee",
   "metadata": {},
   "outputs": [
    {
     "name": "stderr",
     "output_type": "stream",
     "text": [
      "/home/apbarret/anaconda3/lib/python3.7/site-packages/ipykernel_launcher.py:4: DtypeWarning: Columns (25,27,33,35) have mixed types.Specify dtype option on import or set low_memory=False.\n",
      "  after removing the cwd from sys.path.\n",
      "/home/apbarret/anaconda3/lib/python3.7/site-packages/ipykernel_launcher.py:4: DtypeWarning: Columns (25) have mixed types.Specify dtype option on import or set low_memory=False.\n",
      "  after removing the cwd from sys.path.\n",
      "/home/apbarret/anaconda3/lib/python3.7/site-packages/ipykernel_launcher.py:4: DtypeWarning: Columns (13) have mixed types.Specify dtype option on import or set low_memory=False.\n",
      "  after removing the cwd from sys.path.\n"
     ]
    },
    {
     "name": "stdout",
     "output_type": "stream",
     "text": [
      "'DataFrame' object has no attribute 'CLIMATE_IDENTIFIER'\n",
      "{'alert': {2400300: {'end_date': '2006-10-02', 'start_date': '1950-07-01'},\n",
      "           2400305: {'end_date': '2021-10-03', 'start_date': '2006-10-03'}},\n",
      " 'cambridge bay': {2400600: {'end_date': '2015-02-11',\n",
      "                             'start_date': '1929-01-01'},\n",
      "                   2400601: {'end_date': '2021-09-22',\n",
      "                             'start_date': '2015-02-12'}},\n",
      " 'cape-dyer a': {2400654: {'end_date': '1993-09-30',\n",
      "                           'start_date': '1959-08-01'}},\n",
      " 'eureka': {2401199: {'end_date': '2021-09-23', 'start_date': '2016-02-25'},\n",
      "            2401200: {'end_date': '2016-02-24', 'start_date': '1947-05-01'}},\n",
      " 'hall beach': {2402350: {'end_date': '2014-12-31', 'start_date': '1957-01-01'},\n",
      "                2402354: {'end_date': '2021-09-23',\n",
      "                          'start_date': '2015-01-01'}},\n",
      " 'inuvik a': {2202570: {'end_date': '2006-03-31', 'start_date': '1957-03-01'}},\n",
      " 'pond inlet a': {2403201: {'end_date': '2014-12-24',\n",
      "                            'start_date': '1975-01-01'}},\n",
      " 'resolute bay': {2403498: {'end_date': '2021-09-23',\n",
      "                            'start_date': '2014-12-01'},\n",
      "                  2403500: {'end_date': '2014-11-30',\n",
      "                            'start_date': '1947-10-01'}},\n",
      " 'sachs harbour': {2503648: {'end_date': '2021-09-23',\n",
      "                             'start_date': '2013-11-01'},\n",
      "                   2503650: {'end_date': '2013-10-31',\n",
      "                             'start_date': '1955-11-01'}}}\n"
     ]
    }
   ],
   "source": [
    "combine_recipes = {}\n",
    "for station_name, fp in data.items():\n",
    "    \n",
    "    df = load_data(fp)\n",
    "    try:\n",
    "        metadata = get_station_metadata(df)\n",
    "    except Exception as error:\n",
    "        print(error)\n",
    "        continue\n",
    "    \n",
    "    station_recipe = {}\n",
    "    for row in metadata.iterrows():\n",
    "        station_recipe[row[0]] = {\n",
    "            'start_date': row[1].START_DATE.strftime('%Y-%m-%d'),\n",
    "            'end_date': row[1].END_DATE.strftime('%Y-%m-%d'),\n",
    "        }\n",
    "    combine_recipes[station_name.lower()] = station_recipe\n",
    "    \n",
    "pprint.pprint(combine_recipes)"
   ]
  },
  {
   "cell_type": "code",
   "execution_count": null,
   "id": "c6c58248-7114-4892-8e3a-acfc7b1a3ef6",
   "metadata": {},
   "outputs": [],
   "source": []
  }
 ],
 "metadata": {
  "kernelspec": {
   "display_name": "Python 3",
   "language": "python",
   "name": "python3"
  },
  "language_info": {
   "codemirror_mode": {
    "name": "ipython",
    "version": 3
   },
   "file_extension": ".py",
   "mimetype": "text/x-python",
   "name": "python",
   "nbconvert_exporter": "python",
   "pygments_lexer": "ipython3",
   "version": "3.7.6"
  }
 },
 "nbformat": 4,
 "nbformat_minor": 5
}
