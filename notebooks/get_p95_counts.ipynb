{
 "cells": [
  {
   "cell_type": "code",
   "execution_count": 168,
   "id": "e2e5d71d-2feb-4bdf-b061-dd108a9fffea",
   "metadata": {},
   "outputs": [],
   "source": [
    "import sys\n",
    "sys.path.append('..')\n",
    "\n",
    "from calendar import month_abbr\n",
    "\n",
    "import numpy as np\n",
    "import matplotlib.pyplot as plt\n",
    "import pandas as pd\n",
    "\n",
    "from canadian_extreme_precip.get_precipitation_quantiles import load_precip_data, get_quantiles\n",
    "\n",
    "stations_list = [\n",
    "    'inuvik',\n",
    "    'sachs harbour',\n",
    "    'cambridge bay',\n",
    "    'resolute bay',\n",
    "    'alert',\n",
    "    'eureka',\n",
    "    'hall beach',\n",
    "    'clyde river',\n",
    "    'cape dyer',\n",
    "    'pond inlet',\n",
    "    ]\n",
    "\n",
    "# Parameters\n",
    "year_start = '1960'  # First year to nclude in analysis\n",
    "year_end = '1995'  # Last year to include in analysis\n",
    "threshold = 0.01   # Use only daily precipitation greater than this value: exclude zero and trace precipitation days\n",
    "percentile = 0.95  # Percentile used for analysis"
   ]
  },
  {
   "cell_type": "markdown",
   "id": "fc133ffb-94bb-4e29-b55e-45f6962c9d2e",
   "metadata": {},
   "source": [
    "Below are two helper functions.  One for plotting results and one for calculating fraction of P95 days in each month."
   ]
  },
  {
   "cell_type": "code",
   "execution_count": 169,
   "id": "23b98d1d-d7ed-4df4-b57f-f75077b709fc",
   "metadata": {},
   "outputs": [],
   "source": [
    "def plot_series(df, station=''):\n",
    "    \"\"\"Plot time series of daily precipitation for station\n",
    "    \n",
    "    :df: pandas DataFrame from load_precip_data\n",
    "    :station: name of station used as plot title, default is ''\n",
    "    \n",
    "    :returns: matplotlib figure and axes instances\n",
    "    \"\"\"\n",
    "    fig, ax = plt.subplots(figsize=(15,7))\n",
    "    ax.fill_between(df.index, df, step='mid', color='0.5')\n",
    "    ax.set_ylabel('Total Precipitation (mm)', fontsize=20)\n",
    "    ax.set_title(station.title(), fontsize=20)\n",
    "    ax.tick_params('both', labelsize=15)\n",
    "    return fig, ax\n",
    "\n",
    "\n",
    "def get_month_counts(station):\n",
    "    \"\"\"\n",
    "    Helper function to calculate fraction of P95 precipitation days that occur in\n",
    "    each month\n",
    "    \n",
    "    :station: name of station to process\n",
    "    \n",
    "    :returns: pandas series of fractions by month as percentage\n",
    "    \"\"\"\n",
    "    df = load_precip_data(station)  \n",
    "    df = df[year_start: year_end]  # Just use data for 1960 to 1995 period  \n",
    "    p95 = get_quantiles(df, threshold=threshold, quantiles=[percentile]).values[0]  # get 95th percentile\n",
    "    df95 = df[df > p95]  # Get top 5% of values\n",
    "    df95_month_counts = df95.groupby(df95.index.month).count() * 100. / len(df95)  # Calculate fraction of \n",
    "                                                                                   # values in each month\n",
    "    return df95_month_counts.round()"
   ]
  },
  {
   "cell_type": "markdown",
   "id": "e7cb40eb-83be-44f3-9089-8762fb0b395c",
   "metadata": {
    "tags": []
   },
   "source": [
    "## Method\n",
    "\n",
    "### Load data\n",
    "To produce Table 3 in the paper on Canadian Extreme Precipitation we use daily total precipitation from the combined station files for each of the nine locations presented in the paper (see Table 1 and Figure 1 in the paper).  We use the period 1960 to 1995 for the analysis for all stations.  This period is the same period used to generate the climatology plots shown in Figure 2.\n",
    "\n",
    "_If this notebook is being executed and data are available - TBD - each of the five stations can be examined by changing the `station` variable in the cell below_"
   ]
  },
  {
   "cell_type": "code",
   "execution_count": 170,
   "id": "5ad9faef-d615-4c9f-a4ba-bdfb40622d32",
   "metadata": {},
   "outputs": [
    {
     "data": {
      "text/plain": [
       "1960-01-01    0.0\n",
       "1960-01-02    0.0\n",
       "1960-01-03    0.8\n",
       "1960-01-04    0.8\n",
       "1960-01-05    0.0\n",
       "             ... \n",
       "1993-09-26    NaN\n",
       "1993-09-27    NaN\n",
       "1993-09-28    NaN\n",
       "1993-09-29    NaN\n",
       "1993-09-30    NaN\n",
       "Name: TOTAL_PRECIPITATION, Length: 12327, dtype: float64"
      ]
     },
     "execution_count": 170,
     "metadata": {},
     "output_type": "execute_result"
    }
   ],
   "source": [
    "station = 'cape dyer'\n",
    "df = load_precip_data(station)\n",
    "df = df[year_start: year_end]\n",
    "df"
   ]
  },
  {
   "cell_type": "markdown",
   "id": "65c3c7ca-f791-43bf-ad82-caf85b9bfaae",
   "metadata": {
    "tags": []
   },
   "source": [
    "### Get 95th percentile value\n",
    "The 95th percentile daily total precipitation is found using the `pandas.DataFrame.quantiles` method.  Only non-zero and non-trace values daily total precipitation is used to calculate the percentile by excluding values less than a threshold of 0.01.  This value can be changed by changing the `threshold` parameter in the first cell."
   ]
  },
  {
   "cell_type": "code",
   "execution_count": 171,
   "id": "e4694619-2570-4c4e-a3dd-4f3e4f343c92",
   "metadata": {},
   "outputs": [
    {
     "name": "stdout",
     "output_type": "stream",
     "text": [
      "95th Percentile 18.8 mm\n"
     ]
    }
   ],
   "source": [
    "p95 = get_quantiles(df, threshold=threshold, quantiles=[percentile]).values[0]\n",
    "print(f\"95th Percentile {p95} mm\")"
   ]
  },
  {
   "cell_type": "markdown",
   "id": "d1b2e2ce-54c7-4c10-bb13-aeff23f65ca1",
   "metadata": {},
   "source": [
    "## Find days with Total Precipitation greater than P95th\n",
    "The daily total precipitation time series is subsetted to include only values greater than the 95th percentiles.  E.g. we only use the top 5% of daily total non-zero and non-trace precipitation."
   ]
  },
  {
   "cell_type": "code",
   "execution_count": 172,
   "id": "e5f32a14-55c9-4f02-a278-9dcfd0076276",
   "metadata": {},
   "outputs": [],
   "source": [
    "df95 = df[df > p95]"
   ]
  },
  {
   "cell_type": "markdown",
   "id": "2d557ea8-0286-481a-8eae-c6f5c7936521",
   "metadata": {},
   "source": [
    "The time series of precipitation for the analysis period (default is 1960 to 1995) is plotted along with days with precipitation greater than 95th percentile shown by `+`.  The blue horizontal line is the 95th percentile precipitation value.  I refer to these days with precipitation greater than the 95th percetile as P95 days. "
   ]
  },
  {
   "cell_type": "code",
   "execution_count": 173,
   "id": "b46ece37-95d9-4acf-af5e-12d004e90c78",
   "metadata": {},
   "outputs": [
    {
     "data": {
      "text/plain": [
       "<matplotlib.legend.Legend at 0x7f4c6507a410>"
      ]
     },
     "execution_count": 173,
     "metadata": {},
     "output_type": "execute_result"
    },
    {
     "data": {
      "image/png": "[encoded data removed]",
      "text/plain": [
       "<Figure size 1080x504 with 1 Axes>"
      ]
     },
     "metadata": {
      "needs_background": "light"
     },
     "output_type": "display_data"
    }
   ],
   "source": [
    "fig, ax = plot_series(df, station)\n",
    "ax.axhline(p95)\n",
    "x = df95.index\n",
    "y = np.ones(len(x)) * -2\n",
    "ax.scatter(x, y, marker='+', label='> p95th')\n",
    "ax.legend()"
   ]
  },
  {
   "cell_type": "markdown",
   "id": "8b11e342-fe54-428e-8780-6f8616ba9d42",
   "metadata": {},
   "source": [
    "## How many P95 days fall in each month?"
   ]
  },
  {
   "cell_type": "code",
   "execution_count": 174,
   "id": "ab61d2ff-dc5b-46ef-aa40-e3c35ef2e0ac",
   "metadata": {
    "jupyter": {
     "source_hidden": true
    },
    "tags": []
   },
   "outputs": [
    {
     "name": "stdout",
     "output_type": "stream",
     "text": [
      "For Cape Dyer there are 224 days with total daily precipitation greater than the 95th percentile (18.8 mm)\n"
     ]
    }
   ],
   "source": [
    "print(f'For {station.title()} there are {len(df95)} days with total daily precipitation greater than the 95th percentile ({p95} mm)')"
   ]
  },
  {
   "cell_type": "markdown",
   "id": "06ea27df-3716-441f-9215-69f7a9b9a647",
   "metadata": {},
   "source": [
    "To calculate the fraction of P95 days that occur in each month within the period of analysis, the days are grouped by month and counted.  They are divided by the total number of days and multiplied by 100 to get a percentage.\n",
    "\n",
    "_Months that have no events are assigned NaN.  For analysis of all stations, NaNs are changed to zero._"
   ]
  },
  {
   "cell_type": "code",
   "execution_count": 175,
   "id": "2b3d7d48-e1c5-426b-b4fd-c63ca6bfbfb8",
   "metadata": {},
   "outputs": [
    {
     "data": {
      "text/plain": [
       "Jan    10\n",
       "Feb     7\n",
       "Mar     2\n",
       "Apr     5\n",
       "May     5\n",
       "Jun     4\n",
       "Jul     4\n",
       "Aug    10\n",
       "Sep    13\n",
       "Oct    20\n",
       "Nov    10\n",
       "Dec    10\n",
       "Name: TOTAL_PRECIPITATION, dtype: int64"
      ]
     },
     "execution_count": 175,
     "metadata": {},
     "output_type": "execute_result"
    }
   ],
   "source": [
    "df95_month_counts = df95.groupby(df95.index.month).count() * 100. / len(df95)\n",
    "df95_month_counts = df95_month_counts.T.round().astype(int).reindex(np.arange(1,13))\n",
    "df95_month_counts.index = [month_abbr[im] for im in df95_month_counts.index]\n",
    "df95_month_counts"
   ]
  },
  {
   "cell_type": "markdown",
   "id": "098cbc5b-6681-4ea6-bdc7-51631b2b0ad8",
   "metadata": {},
   "source": [
    "## Calculate percentage for all stations\n",
    "\n",
    "To calculate fraction of P95 days in each month, the `get_station_month` function defined in cell 2 is applied to each station combined record.  Results for each station are combined into a `pandas.DataFrame` and some modifications done to produce a clean table.  In particular, percentages are rounded to the nearest integer.  This rounding means that not all rows in the table sum to exactly 100%.  _C'est la vie_."
   ]
  },
  {
   "cell_type": "code",
   "execution_count": 176,
   "id": "7f8adfdb-dadd-4471-9140-c9efa7e79bd8",
   "metadata": {},
   "outputs": [
    {
     "data": {
      "text/html": [
       "<div>\n",
       "<style scoped>\n",
       "    .dataframe tbody tr th:only-of-type {\n",
       "        vertical-align: middle;\n",
       "    }\n",
       "\n",
       "    .dataframe tbody tr th {\n",
       "        vertical-align: top;\n",
       "    }\n",
       "\n",
       "    .dataframe thead th {\n",
       "        text-align: right;\n",
       "    }\n",
       "</style>\n",
       "<table border=\"1\" class=\"dataframe\">\n",
       "  <thead>\n",
       "    <tr style=\"text-align: right;\">\n",
       "      <th></th>\n",
       "      <th>Jan</th>\n",
       "      <th>Feb</th>\n",
       "      <th>Mar</th>\n",
       "      <th>Apr</th>\n",
       "      <th>May</th>\n",
       "      <th>Jun</th>\n",
       "      <th>Jul</th>\n",
       "      <th>Aug</th>\n",
       "      <th>Sep</th>\n",
       "      <th>Oct</th>\n",
       "      <th>Nov</th>\n",
       "      <th>Dec</th>\n",
       "    </tr>\n",
       "  </thead>\n",
       "  <tbody>\n",
       "    <tr>\n",
       "      <th>inuvik</th>\n",
       "      <td>2</td>\n",
       "      <td>1</td>\n",
       "      <td>1</td>\n",
       "      <td>3</td>\n",
       "      <td>9</td>\n",
       "      <td>12</td>\n",
       "      <td>20</td>\n",
       "      <td>27</td>\n",
       "      <td>10</td>\n",
       "      <td>9</td>\n",
       "      <td>3</td>\n",
       "      <td>3</td>\n",
       "    </tr>\n",
       "    <tr>\n",
       "      <th>sachs harbour</th>\n",
       "      <td>1</td>\n",
       "      <td>1</td>\n",
       "      <td>4</td>\n",
       "      <td>8</td>\n",
       "      <td>8</td>\n",
       "      <td>6</td>\n",
       "      <td>12</td>\n",
       "      <td>31</td>\n",
       "      <td>16</td>\n",
       "      <td>7</td>\n",
       "      <td>3</td>\n",
       "      <td>1</td>\n",
       "    </tr>\n",
       "    <tr>\n",
       "      <th>cambridge bay</th>\n",
       "      <td>0</td>\n",
       "      <td>0</td>\n",
       "      <td>2</td>\n",
       "      <td>4</td>\n",
       "      <td>8</td>\n",
       "      <td>10</td>\n",
       "      <td>21</td>\n",
       "      <td>29</td>\n",
       "      <td>17</td>\n",
       "      <td>7</td>\n",
       "      <td>2</td>\n",
       "      <td>1</td>\n",
       "    </tr>\n",
       "    <tr>\n",
       "      <th>resolute bay</th>\n",
       "      <td>0</td>\n",
       "      <td>0</td>\n",
       "      <td>1</td>\n",
       "      <td>2</td>\n",
       "      <td>3</td>\n",
       "      <td>9</td>\n",
       "      <td>24</td>\n",
       "      <td>37</td>\n",
       "      <td>16</td>\n",
       "      <td>6</td>\n",
       "      <td>2</td>\n",
       "      <td>1</td>\n",
       "    </tr>\n",
       "    <tr>\n",
       "      <th>alert</th>\n",
       "      <td>2</td>\n",
       "      <td>0</td>\n",
       "      <td>0</td>\n",
       "      <td>3</td>\n",
       "      <td>6</td>\n",
       "      <td>8</td>\n",
       "      <td>27</td>\n",
       "      <td>20</td>\n",
       "      <td>22</td>\n",
       "      <td>7</td>\n",
       "      <td>2</td>\n",
       "      <td>2</td>\n",
       "    </tr>\n",
       "    <tr>\n",
       "      <th>eureka</th>\n",
       "      <td>1</td>\n",
       "      <td>2</td>\n",
       "      <td>2</td>\n",
       "      <td>2</td>\n",
       "      <td>4</td>\n",
       "      <td>11</td>\n",
       "      <td>22</td>\n",
       "      <td>25</td>\n",
       "      <td>17</td>\n",
       "      <td>9</td>\n",
       "      <td>5</td>\n",
       "      <td>1</td>\n",
       "    </tr>\n",
       "    <tr>\n",
       "      <th>hall beach</th>\n",
       "      <td>0</td>\n",
       "      <td>1</td>\n",
       "      <td>3</td>\n",
       "      <td>2</td>\n",
       "      <td>4</td>\n",
       "      <td>8</td>\n",
       "      <td>20</td>\n",
       "      <td>30</td>\n",
       "      <td>17</td>\n",
       "      <td>7</td>\n",
       "      <td>3</td>\n",
       "      <td>1</td>\n",
       "    </tr>\n",
       "    <tr>\n",
       "      <th>clyde river</th>\n",
       "      <td>1</td>\n",
       "      <td>1</td>\n",
       "      <td>2</td>\n",
       "      <td>4</td>\n",
       "      <td>7</td>\n",
       "      <td>8</td>\n",
       "      <td>12</td>\n",
       "      <td>21</td>\n",
       "      <td>18</td>\n",
       "      <td>13</td>\n",
       "      <td>8</td>\n",
       "      <td>4</td>\n",
       "    </tr>\n",
       "    <tr>\n",
       "      <th>cape dyer</th>\n",
       "      <td>10</td>\n",
       "      <td>7</td>\n",
       "      <td>2</td>\n",
       "      <td>5</td>\n",
       "      <td>5</td>\n",
       "      <td>4</td>\n",
       "      <td>4</td>\n",
       "      <td>10</td>\n",
       "      <td>13</td>\n",
       "      <td>20</td>\n",
       "      <td>10</td>\n",
       "      <td>10</td>\n",
       "    </tr>\n",
       "    <tr>\n",
       "      <th>pond inlet</th>\n",
       "      <td>2</td>\n",
       "      <td>0</td>\n",
       "      <td>1</td>\n",
       "      <td>2</td>\n",
       "      <td>6</td>\n",
       "      <td>8</td>\n",
       "      <td>25</td>\n",
       "      <td>21</td>\n",
       "      <td>15</td>\n",
       "      <td>12</td>\n",
       "      <td>6</td>\n",
       "      <td>3</td>\n",
       "    </tr>\n",
       "  </tbody>\n",
       "</table>\n",
       "</div>"
      ],
      "text/plain": [
       "               Jan  Feb  Mar  Apr  May  Jun  Jul  Aug  Sep  Oct  Nov  Dec\n",
       "inuvik           2    1    1    3    9   12   20   27   10    9    3    3\n",
       "sachs harbour    1    1    4    8    8    6   12   31   16    7    3    1\n",
       "cambridge bay    0    0    2    4    8   10   21   29   17    7    2    1\n",
       "resolute bay     0    0    1    2    3    9   24   37   16    6    2    1\n",
       "alert            2    0    0    3    6    8   27   20   22    7    2    2\n",
       "eureka           1    2    2    2    4   11   22   25   17    9    5    1\n",
       "hall beach       0    1    3    2    4    8   20   30   17    7    3    1\n",
       "clyde river      1    1    2    4    7    8   12   21   18   13    8    4\n",
       "cape dyer       10    7    2    5    5    4    4   10   13   20   10   10\n",
       "pond inlet       2    0    1    2    6    8   25   21   15   12    6    3"
      ]
     },
     "execution_count": 176,
     "metadata": {},
     "output_type": "execute_result"
    }
   ],
   "source": [
    "results = {}\n",
    "for station in stations_list:\n",
    "    results[station] = get_month_counts(station)\n",
    "table02 = pd.DataFrame(results)\n",
    "table02 = table02.where(table02.notna(), 0.).astype(int)  # Change NaNs to zero\n",
    "table02.index = [month_abbr[im] for im in table02.index]  # Make month labels abbreviations rather than number\n",
    "table02.T  # Transpose DataFrame to make nice table"
   ]
  },
  {
   "cell_type": "code",
   "execution_count": null,
   "id": "e0a7d06b-6f50-4589-9cb6-397ae5275daf",
   "metadata": {},
   "outputs": [],
   "source": []
  }
 ],
 "metadata": {
  "kernelspec": {
   "display_name": "Python 3",
   "language": "python",
   "name": "python3"
  },
  "language_info": {
   "codemirror_mode": {
    "name": "ipython",
    "version": 3
   },
   "file_extension": ".py",
   "mimetype": "text/x-python",
   "name": "python",
   "nbconvert_exporter": "python",
   "pygments_lexer": "ipython3",
   "version": "3.7.6"
  }
 },
 "nbformat": 4,
 "nbformat_minor": 5
}
